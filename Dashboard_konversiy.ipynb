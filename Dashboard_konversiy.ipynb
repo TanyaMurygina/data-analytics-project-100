{
 "cells": [
  {
   "cell_type": "markdown",
   "id": "c21a5d9b-0755-4cb6-9edd-e7d94014cbbb",
   "metadata": {},
   "source": [
    "# Проект \"Дашборд конверсий\""
   ]
  },
  {
   "cell_type": "markdown",
   "id": "461f5bb8-26ca-439b-be08-41f0daa7d72e",
   "metadata": {},
   "source": [
    "## Шаг 1 Выгрузка из Google"
   ]
  },
  {
   "cell_type": "markdown",
   "id": "7703621f-6df7-4dcd-b8ec-585e6b0c17e1",
   "metadata": {},
   "source": [
    "Выгрузим необходимые библиотеки"
   ]
  },
  {
   "cell_type": "code",
   "execution_count": 5,
   "id": "11e2664b-7eb9-4eac-90c6-a6f5656103c9",
   "metadata": {},
   "outputs": [
    {
     "data": {
      "text/plain": [
       "False"
      ]
     },
     "execution_count": 5,
     "metadata": {},
     "output_type": "execute_result"
    }
   ],
   "source": [
    "import pandas as pd\n",
    "import matplotlib.pyplot as plt\n",
    "import numpy as np\n",
    "import seaborn as sns\n",
    "import requests\n",
    "import plotly.express as px\n",
    "from dotenv import load_dotenv\n",
    "import os\n",
    "\n",
    "load_dotenv()"
   ]
  },
  {
   "cell_type": "markdown",
   "id": "5d11d1f7-81b7-484a-acaf-855d9426b9e4",
   "metadata": {},
   "source": [
    "Скачаем и подгрузим данные по указанным ссылкам\n",
    "Визиты - https://drive.google.com/file/d/1QosQQ4RRNR9rkL4t7sB707h2Uy0XfYJe/view\n",
    "Регистрации - https://drive.google.com/file/d/1AeQz0kaSgz0lxYSDtuNm36muhy5fRCzZ/view"
   ]
  },
  {
   "cell_type": "code",
   "execution_count": 8,
   "id": "6aa689d5-d3c1-41bd-977d-1699b965f711",
   "metadata": {},
   "outputs": [
    {
     "name": "stdout",
     "output_type": "stream",
     "text": [
      "                                   uuid platform  \\\n",
      "0  1de9ea66-70d3-4a1f-8735-df5ef7697fb9      web   \n",
      "1  f149f542-e935-4870-9734-6b4501eaf614      web   \n",
      "2  f149f542-e935-4870-9734-6b4501eaf614      web   \n",
      "3  08f0ebd4-950c-4dd9-8e97-b5bdf073eed1      web   \n",
      "4  08f0ebd4-950c-4dd9-8e97-b5bdf073eed1      web   \n",
      "\n",
      "                                          user_agent                 date  \n",
      "0  Mozilla/5.0 (Macintosh; Intel Mac OS X 10_11_2...  2023-03-01T13:29:22  \n",
      "1  Mozilla/5.0 (X11; CrOS x86_64 8172.45.0) Apple...  2023-03-01T16:44:28  \n",
      "2  Mozilla/5.0 (X11; CrOS x86_64 8172.45.0) Apple...  2023-03-06T06:12:36  \n",
      "3  Mozilla/5.0 (X11; Ubuntu; Linux x86_64; rv:109...  2023-03-01T20:16:37  \n",
      "4  Mozilla/5.0 (X11; Ubuntu; Linux x86_64; rv:109...  2023-03-05T17:42:47  \n",
      "                  date  user_id                    email platform  \\\n",
      "0  2023-03-01T00:25:39  8838849     joseph95@example.org      web   \n",
      "1  2023-03-01T14:53:01  8741065  janetsuarez@example.net      web   \n",
      "2  2023-03-01T14:27:36  1866654     robert67@example.org      web   \n",
      "3  2023-03-01T02:42:34  1577584         elam@example.net      web   \n",
      "4  2023-03-01T10:27:14  4765395  stephanie68@example.net      web   \n",
      "\n",
      "  registration_type  \n",
      "0            google  \n",
      "1            yandex  \n",
      "2            google  \n",
      "3             apple  \n",
      "4            yandex  \n"
     ]
    }
   ],
   "source": [
    "with open(\"visits.csv\", 'wb') as f:\n",
    "    f.write(requests.get(\"https://drive.google.com/uc?id=1QosQQ4RRNR9rkL4t7sB707h2Uy0XfYJe\").content)\n",
    "\n",
    "# Регистрации\n",
    "with open(\"registrations.csv\", 'wb') as f:\n",
    "    f.write(requests.get(\"https://drive.google.com/uc?id=1AeQz0kaSgz0lxYSDtuNm36muhy5fRCzZ\").content)\n",
    "\n",
    "visits_df = pd.read_csv(\"visits.csv\")\n",
    "registrations_df = pd.read_csv(\"registrations.csv\")\n",
    "\n",
    "print(visits_df.head())\n",
    "print(registrations_df.head())"
   ]
  },
  {
   "cell_type": "markdown",
   "id": "ec7366e4-4a68-4993-b3d1-4157d007700b",
   "metadata": {},
   "source": [
    "Выполним предварительный анализ с помощью dataframe.describe"
   ]
  },
  {
   "cell_type": "code",
   "execution_count": 9,
   "id": "28850eed-ec4d-4c91-b1b0-8762b7c3520f",
   "metadata": {},
   "outputs": [
    {
     "name": "stdout",
     "output_type": "stream",
     "text": [
      "Статистика по визитам\n",
      "                                        uuid platform  \\\n",
      "count                                   1000     1000   \n",
      "unique                                   519        3   \n",
      "top     251a0926-ece3-4d77-aa42-ab569fdf9fe2      web   \n",
      "freq                                       4      954   \n",
      "\n",
      "                                               user_agent                 date  \n",
      "count                                                1000                 1000  \n",
      "unique                                                 28                  996  \n",
      "top     Mozilla/5.0 (Windows NT 10.0; Win64; x64) Appl...  2023-03-01T08:01:45  \n",
      "freq                                                   71                    2  \n",
      "Статистика по регистрациям\n",
      "                       date       user_id                  email platform  \\\n",
      "count                  1000  1.000000e+03                   1000     1000   \n",
      "unique                 1000           NaN                    997        3   \n",
      "top     2023-03-01T00:25:39           NaN  zanderson@example.org  android   \n",
      "freq                      1           NaN                      2      517   \n",
      "mean                    NaN  4.488623e+06                    NaN      NaN   \n",
      "std                     NaN  2.620568e+06                    NaN      NaN   \n",
      "min                     NaN  2.236800e+04                    NaN      NaN   \n",
      "25%                     NaN  2.235489e+06                    NaN      NaN   \n",
      "50%                     NaN  4.473044e+06                    NaN      NaN   \n",
      "75%                     NaN  6.779707e+06                    NaN      NaN   \n",
      "max                     NaN  8.881772e+06                    NaN      NaN   \n",
      "\n",
      "       registration_type  \n",
      "count               1000  \n",
      "unique                 4  \n",
      "top                email  \n",
      "freq                 446  \n",
      "mean                 NaN  \n",
      "std                  NaN  \n",
      "min                  NaN  \n",
      "25%                  NaN  \n",
      "50%                  NaN  \n",
      "75%                  NaN  \n",
      "max                  NaN  \n"
     ]
    }
   ],
   "source": [
    "print(\"Статистика по визитам\")\n",
    "print(visits_df.describe(include='all'))\n",
    "\n",
    "print(\"Статистика по регистрациям\")\n",
    "print(registrations_df.describe(include='all'))"
   ]
  },
  {
   "cell_type": "markdown",
   "id": "ded88a44-f1c9-4d0d-ad57-2094bdf50b86",
   "metadata": {},
   "source": [
    "## Шаг 2 Выгрузка по API "
   ]
  },
  {
   "cell_type": "code",
   "execution_count": 6,
   "id": "ab83f1dd-6d28-43a4-bbd5-34a0db94e76c",
   "metadata": {},
   "outputs": [
    {
     "name": "stdout",
     "output_type": "stream",
     "text": [
      "Количество: 263459 визитов\n",
      "Количество: 21836 регистраций\n"
     ]
    }
   ],
   "source": [
    "import requests\n",
    "\n",
    "BASE_URL = \"https://data-charts-api.hexlet.app\"\n",
    "\n",
    "START_DATE = \"2023-03-01\"\n",
    "END_DATE = \"2023-09-01\"\n",
    "\n",
    "# Запрашиваем данные по визитам\n",
    "visits_response = requests.get(f\"{BASE_URL}/visits?begin={START_DATE}&end={END_DATE}\")\n",
    "visits_data = visits_response.json()\n",
    "\n",
    "# Запрашиваем данные по регистрациям\n",
    "registrations_response = requests.get(f\"{BASE_URL}/registrations?begin={START_DATE}&end={END_DATE}\")\n",
    "registrations_data = registrations_response.json()\n",
    "\n",
    "# DataFrame\n",
    "visits_df = pd.DataFrame(visits_data)\n",
    "registrations_df = pd.DataFrame(registrations_data)\n",
    "\n",
    "print(f\"Количество: {len(visits_df)} визитов\")\n",
    "print(f\"Количество: {len(registrations_df)} регистраций\")"
   ]
  },
  {
   "cell_type": "code",
   "execution_count": null,
   "id": "e607c63a-1680-4737-887c-bb2d76aa70e5",
   "metadata": {},
   "outputs": [],
   "source": []
  }
 ],
 "metadata": {
  "kernelspec": {
   "display_name": "Python 3 (ipykernel)",
   "language": "python",
   "name": "python3"
  },
  "language_info": {
   "codemirror_mode": {
    "name": "ipython",
    "version": 3
   },
   "file_extension": ".py",
   "mimetype": "text/x-python",
   "name": "python",
   "nbconvert_exporter": "python",
   "pygments_lexer": "ipython3",
   "version": "3.13.7"
  }
 },
 "nbformat": 4,
 "nbformat_minor": 5
}
